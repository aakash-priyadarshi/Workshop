{
  "cells": [
    {
      "cell_type": "markdown",
      "metadata": {
        "id": "view-in-github",
        "colab_type": "text"
      },
      "source": [
        "<a href=\"https://colab.research.google.com/github/aakash-priyadarshi/Workshop/blob/master/Complete-Python-Bootcamp-master/Object%20Oriented%20Programming%20Homework%20-Assignment.ipynb\" target=\"_parent\"><img src=\"https://colab.research.google.com/assets/colab-badge.svg\" alt=\"Open In Colab\"/></a>"
      ]
    },
    {
      "cell_type": "markdown",
      "metadata": {
        "id": "Nvoo1L5paiuu"
      },
      "source": [
        "# Object Oriented Programming\n",
        "## Homework Assignment\n",
        "\n",
        "####Problem 1\n",
        "Fill in the Line class methods to accept coordinate as a pair of tuples and return the slope and distance of the line."
      ]
    },
    {
      "cell_type": "code",
      "execution_count": null,
      "metadata": {
        "collapsed": true,
        "id": "Chu_Is0Faiuw"
      },
      "outputs": [],
      "source": [
        "class Line(object):\n",
        "\n",
        "    def __init__(self,coor1,coor2):\n",
        "        pass\n",
        "\n",
        "    def distance(self):\n",
        "        pass\n",
        "\n",
        "    def slope(self):\n",
        "        pass"
      ]
    },
    {
      "cell_type": "code",
      "execution_count": null,
      "metadata": {
        "id": "d5kMhUYZaiux"
      },
      "outputs": [],
      "source": [
        "# EXAMPLE OUTPUT\n",
        "\n",
        "coordinate1 = (3,2)\n",
        "coordinate2 = (8,10)\n",
        "\n",
        "li = Line(coordinate1,coordinate2)"
      ]
    },
    {
      "cell_type": "code",
      "execution_count": null,
      "metadata": {
        "id": "GMIWJyO5aiux",
        "outputId": "6d32d1ea-7a7b-4aa3-b7c8-b5e17d8f6329"
      },
      "outputs": [
        {
          "data": {
            "text/plain": [
              "9.433981132056603"
            ]
          },
          "execution_count": 20,
          "metadata": {},
          "output_type": "execute_result"
        }
      ],
      "source": [
        "li.distance()"
      ]
    },
    {
      "cell_type": "code",
      "execution_count": null,
      "metadata": {
        "id": "EZrS_lw5aiuy",
        "outputId": "eb6772f4-e8a8-4879-f363-a4134b2d4bef"
      },
      "outputs": [
        {
          "data": {
            "text/plain": [
              "1.6"
            ]
          },
          "execution_count": 21,
          "metadata": {},
          "output_type": "execute_result"
        }
      ],
      "source": [
        "li.slope()"
      ]
    },
    {
      "cell_type": "markdown",
      "metadata": {
        "id": "10r1GF-xaiuz"
      },
      "source": [
        "________\n",
        "####Problem 2"
      ]
    },
    {
      "cell_type": "markdown",
      "metadata": {
        "id": "P8GWPY-iaiuz"
      },
      "source": [
        "Fill in the class"
      ]
    },
    {
      "cell_type": "code",
      "execution_count": null,
      "metadata": {
        "id": "LLIv2HgFaiuz"
      },
      "outputs": [],
      "source": [
        "class Cylinder(object):\n",
        "\n",
        "    def __init__(self,height=1,radius=1):\n",
        "        pass\n",
        "\n",
        "    def volume(self):\n",
        "        pass\n",
        "\n",
        "    def surface_area(self):\n",
        "        pass"
      ]
    },
    {
      "cell_type": "code",
      "execution_count": null,
      "metadata": {
        "collapsed": true,
        "id": "Lu47e0u2aiuz"
      },
      "outputs": [],
      "source": [
        "# EXAMPLE OUTPUT\n",
        "c = Cylinder(2,3)"
      ]
    },
    {
      "cell_type": "code",
      "execution_count": null,
      "metadata": {
        "id": "xm_mpx1iaiu0",
        "outputId": "d2a61fa4-82a6-467e-c3fb-fcd0d96060ae"
      },
      "outputs": [
        {
          "data": {
            "text/plain": [
              "56.52"
            ]
          },
          "execution_count": 34,
          "metadata": {},
          "output_type": "execute_result"
        }
      ],
      "source": [
        "c.volume()"
      ]
    },
    {
      "cell_type": "code",
      "execution_count": null,
      "metadata": {
        "id": "QVskw0-Saiu0",
        "outputId": "8b72d703-a6c5-41f8-b62f-7ab1423cc894"
      },
      "outputs": [
        {
          "data": {
            "text/plain": [
              "94.2"
            ]
          },
          "execution_count": 35,
          "metadata": {},
          "output_type": "execute_result"
        }
      ],
      "source": [
        "c.surface_area()"
      ]
    },
    {
      "cell_type": "code",
      "execution_count": null,
      "metadata": {
        "collapsed": true,
        "id": "AFmDhijCaiu0"
      },
      "outputs": [],
      "source": []
    },
    {
      "cell_type": "markdown",
      "source": [
        "\n",
        "---\n",
        "\n",
        "### Problem 3\n",
        "\n",
        "Fill in the `Rectangle` class methods to calculate the **area** and **perimeter** of the rectangle.\n",
        "\n",
        "```python\n",
        "class Rectangle(object):\n",
        "    \n",
        "    def __init__(self, length, width):\n",
        "        pass\n",
        "\n",
        "    def area(self):\n",
        "        pass\n",
        "\n",
        "    def perimeter(self):\n",
        "        pass\n",
        "```\n",
        "\n",
        "### Example Output:\n",
        "\n",
        "```python\n",
        "r = Rectangle(5, 10)\n",
        "r.area()  # Should return 50\n",
        "r.perimeter()  # Should return 30\n",
        "```\n",
        "\n",
        "---\n",
        "\n",
        "### Problem 4\n",
        "\n",
        "Create a `Triangle` class that takes the three sides of a triangle as input. Write methods to:\n",
        "- Check if the triangle is **valid** (i.e., the sum of any two sides should be greater than the third side).\n",
        "- Calculate the **area** of the triangle using Heron’s formula.\n",
        "\n",
        "```python\n",
        "class Triangle(object):\n",
        "    \n",
        "    def __init__(self, side1, side2, side3):\n",
        "        pass\n",
        "\n",
        "    def is_valid(self):\n",
        "        pass\n",
        "\n",
        "    def area(self):\n",
        "        pass\n",
        "```\n",
        "\n",
        "### Example Output:\n",
        "\n",
        "```python\n",
        "t = Triangle(3, 4, 5)\n",
        "t.is_valid()  # Should return True\n",
        "t.area()  # Should return 6.0\n",
        "```\n",
        "\n",
        "---\n",
        "\n",
        "### Problem 5\n",
        "\n",
        "Create a `Circle` class that accepts the **radius** as an attribute. Add methods to:\n",
        "- Calculate the **area** of the circle.\n",
        "- Calculate the **circumference** of the circle.\n",
        "\n",
        "```python\n",
        "class Circle(object):\n",
        "    \n",
        "    def __init__(self, radius):\n",
        "        pass\n",
        "\n",
        "    def area(self):\n",
        "        pass\n",
        "\n",
        "    def circumference(self):\n",
        "        pass\n",
        "```\n",
        "\n",
        "### Example Output:\n",
        "\n",
        "```python\n",
        "c = Circle(5)\n",
        "c.area()  # Should return 78.54 (rounded)\n",
        "c.circumference()  # Should return 31.42 (rounded)\n",
        "```\n",
        "\n",
        "---\n",
        "\n",
        "### Problem 6\n",
        "\n",
        "Create a `BankAccount` class with attributes for **balance**. Add methods to:\n",
        "- **Deposit** money into the account.\n",
        "- **Withdraw** money, ensuring the balance doesn’t go negative.\n",
        "- Display the **current balance**.\n",
        "\n",
        "```python\n",
        "class BankAccount(object):\n",
        "    \n",
        "    def __init__(self, balance):\n",
        "        pass\n",
        "\n",
        "    def deposit(self, amount):\n",
        "        pass\n",
        "\n",
        "    def withdraw(self, amount):\n",
        "        pass\n",
        "\n",
        "    def display_balance(self):\n",
        "        pass\n",
        "```\n",
        "\n",
        "### Example Output:\n",
        "\n",
        "```python\n",
        "account = BankAccount(100)\n",
        "account.deposit(50)  # Balance should be 150\n",
        "account.withdraw(30)  # Balance should be 120\n",
        "account.display_balance()  # Should return 120\n",
        "```\n",
        "\n",
        "---\n",
        "\n",
        "### Problem 7\n",
        "\n",
        "Create a `Book` class with attributes for the **title**, **author**, and **number of pages**. Add methods to:\n",
        "- Print a **summary** of the book.\n",
        "- Return whether the book is **long** (over 300 pages) or **short** (300 pages or less).\n",
        "\n",
        "```python\n",
        "class Book(object):\n",
        "    \n",
        "    def __init__(self, title, author, pages):\n",
        "        pass\n",
        "\n",
        "    def summary(self):\n",
        "        pass\n",
        "\n",
        "    def is_long(self):\n",
        "        pass\n",
        "```\n",
        "\n",
        "### Example Output:\n",
        "\n",
        "```python\n",
        "book = Book(\"The Great Gatsby\", \"F. Scott Fitzgerald\", 218)\n",
        "book.summary()  # Should print the summary\n",
        "book.is_long()  # Should return False (since 218 pages is not long)\n",
        "```\n",
        "\n",
        "---\n",
        "\n",
        "### Problem 8\n",
        "\n",
        "Create a `Person` class with attributes for **name** and **age**. Add methods to:\n",
        "- Check if the person is an **adult** (age 18 or older).\n",
        "- **Celebrate a birthday** by incrementing the age by 1.\n",
        "\n",
        "```python\n",
        "class Person(object):\n",
        "    \n",
        "    def __init__(self, name, age):\n",
        "        pass\n",
        "\n",
        "    def is_adult(self):\n",
        "        pass\n",
        "\n",
        "    def birthday(self):\n",
        "        pass\n",
        "```\n",
        "\n",
        "### Example Output:\n",
        "\n",
        "```python\n",
        "p = Person(\"John\", 17)\n",
        "p.is_adult()  # Should return False\n",
        "p.birthday()  # Should increase age by 1\n",
        "p.is_adult()  # Should return True after birthday\n",
        "```\n",
        "\n",
        "---\n"
      ],
      "metadata": {
        "id": "kEPaGqH7fLl3"
      }
    }
  ],
  "metadata": {
    "kernelspec": {
      "display_name": "Python 2",
      "language": "python",
      "name": "python2"
    },
    "language_info": {
      "codemirror_mode": {
        "name": "ipython",
        "version": 2
      },
      "file_extension": ".py",
      "mimetype": "text/x-python",
      "name": "python",
      "nbconvert_exporter": "python",
      "pygments_lexer": "ipython2",
      "version": "2.7.10"
    },
    "colab": {
      "provenance": [],
      "include_colab_link": true
    }
  },
  "nbformat": 4,
  "nbformat_minor": 0
}