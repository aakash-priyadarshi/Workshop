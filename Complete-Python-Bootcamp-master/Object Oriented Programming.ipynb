{
  "cells": [
    {
      "cell_type": "markdown",
      "source": [
        "### Importance of Object-Oriented Programming (OOP) in Python\n",
        "\n",
        "Object-Oriented Programming (OOP) is a **programming paradigm** based on the concept of “objects.” Python is an **object-oriented language**, meaning it supports OOP principles like encapsulation, inheritance, and polymorphism. Understanding OOP is essential because it allows developers to organize complex programs in a more **efficient**, **reusable**, and **maintainable** way.\n",
        "\n",
        "### Why OOP is Important:\n",
        "\n",
        "#### 1. **Modularity and Code Reusability**\n",
        "   - **Encapsulation** allows bundling of data (attributes) and methods (functions) into a single unit (class). This leads to modular code, making it easy to understand and maintain.\n",
        "   - **Reusability** is one of the biggest advantages of OOP. Once a class is written, it can be reused in different programs without rewriting the code.\n",
        "   \n",
        "   **Example**:\n",
        "   If you create a class `Car`, you can reuse it in multiple projects without needing to redefine the basic attributes and methods of a car each time.\n",
        "\n",
        "   ```python\n",
        "   class Car:\n",
        "       def __init__(self, make, model, year):\n",
        "           self.make = make\n",
        "           self.model = model\n",
        "           self.year = year\n",
        "\n",
        "       def start(self):\n",
        "           print(f\"{self.make} {self.model} is starting.\")\n",
        "   \n",
        "   # Creating an instance of Car\n",
        "   car1 = Car(\"Toyota\", \"Corolla\", 2020)\n",
        "   car1.start()  # Output: Toyota Corolla is starting.\n",
        "   ```\n",
        "\n",
        "   **Why it’s important**: You can use the `Car` class in different programs, avoiding repetitive code and making it easier to manage large applications.\n",
        "\n",
        "---\n",
        "\n",
        "#### 2. **Scalability for Complex Systems**\n",
        "   - OOP makes it easier to manage **complex applications** because it breaks the problem into smaller, manageable pieces. Each piece (class) focuses on a specific aspect of the program.\n",
        "   - As your program grows, you can extend classes or create new ones without affecting existing code. This makes OOP scalable.\n",
        "\n",
        "   **Example**:\n",
        "   In a large project like a game, you could have different classes like `Player`, `Enemy`, and `Weapon`. Each of these has its own attributes and methods, making the program more structured and manageable.\n",
        "\n",
        "---\n",
        "\n",
        "#### 3. **Inheritance and Code Sharing**\n",
        "   - **Inheritance** allows new classes to **inherit** attributes and methods from an existing class. This promotes code reuse and helps create a hierarchy of classes.\n",
        "   - By extending a base class, you can add new features or modify behavior without rewriting the entire class.\n",
        "\n",
        "   **Example**:\n",
        "   You can create a base class `Animal` and have subclasses `Dog` and `Cat` inherit from it. Both `Dog` and `Cat` share common behaviors but also have unique behaviors.\n",
        "\n",
        "   ```python\n",
        "   class Animal:\n",
        "       def __init__(self, name):\n",
        "self.name = name\n",
        "\n",
        "       def speak(self):\n",
        "           pass  # This will be implemented in subclasses\n",
        "\n",
        "   class Dog(Animal):\n",
        "       def speak(self):\n",
        "return f\"{self.name} says Woof!\"\n",
        "\n",
        "   class Cat(Animal):\n",
        "       def speak(self):\n",
        "return f\"{self.name} says Meow!\"\n",
        "\n",
        "   dog = Dog(\"Buddy\")\n",
        "   print(dog.speak())  # Output: Buddy says Woof!\n",
        "   \n",
        "   cat = Cat(\"Whiskers\")\n",
        "   print(cat.speak())  # Output: Whiskers says Meow!\n",
        "   ```\n",
        "\n",
        "   **Why it’s important**: Inheritance allows you to **reuse and extend** existing classes, making it easier to add new features while avoiding code duplication.\n",
        "\n",
        "---\n",
        "\n",
        "#### 4. **Polymorphism and Flexibility**\n",
        "   - **Polymorphism** allows objects of different classes to be treated as objects of a common superclass. This flexibility enables you to use a single method or interface across different object types.\n",
        "   - For example, if `Dog` and `Cat` are both subclasses of `Animal`, you can write code that works for both without knowing which specific class you’re dealing with.\n",
        "\n",
        "   **Example**:\n",
        "   ```python\n",
        "   def animal_sound(animal):\n",
        "       print(animal.speak())\n",
        "\n",
        "   dog = Dog(\"Buddy\")\n",
        "   cat = Cat(\"Whiskers\")\n",
        "\n",
        "   animal_sound(dog)  # Output: Buddy says Woof!\n",
        "   animal_sound(cat)  # Output: Whiskers says Meow!\n",
        "   ```\n",
        "\n",
        "   **Why it’s important**: Polymorphism promotes flexibility and allows functions to handle different types of objects in a general way, reducing the need for type-specific code.\n",
        "\n",
        "---\n",
        "\n",
        "#### 5. **Data Abstraction and Encapsulation**\n",
        "   - **Encapsulation** allows hiding the internal workings of an object and exposing only what’s necessary. This helps in **data protection** and **prevents unintended modifications**.\n",
        "   - **Abstraction** simplifies complex systems by showing only the necessary details and hiding the implementation.\n",
        "\n",
        "   **Example**:\n",
        "   In a bank account system, you might not want users to directly modify the account balance. Instead, you would provide methods to deposit or withdraw money while ensuring the integrity of the balance.\n",
        "\n",
        "   ```python\n",
        "   class BankAccount:\n",
        "       def __init__(self, balance):\n",
        "           self.__balance = balance  # Private variable\n",
        "\n",
        "       def deposit(self, amount):\n",
        "           self.__balance += amount\n",
        "\n",
        "       def withdraw(self, amount):\n",
        "           if amount <= self.__balance:\n",
        "               self.__balance -= amount\n",
        "           else:\n",
        "               print(\"Insufficient balance\")\n",
        "\n",
        "       def get_balance(self):\n",
        "           return self.__balance\n",
        "\n",
        "   account = BankAccount(1000)\n",
        "   account.deposit(500)\n",
        "   print(account.get_balance())  # Output: 1500\n",
        "   account.withdraw(2000)        # Output: Insufficient balance\n",
        "   ```\n",
        "\n",
        "   **Why it’s important**: Encapsulation protects the integrity of data and **prevents accidental or malicious changes**. It also simplifies usage by only exposing what’s necessary.\n",
        "\n",
        "---\n",
        "\n",
        "#### 6. **Real-World Modeling**\n",
        "   - OOP allows you to model real-world entities (like cars, animals, or people) more naturally. This makes it easier to write programs that reflect how things work in real life.\n",
        "   - Using objects to represent real-world entities helps developers to structure their code in an intuitive way.\n",
        "\n",
        "   **Example**:\n",
        "   Think of a shopping cart in an online store. Each product can be represented as an object, and the cart itself can be an object that contains multiple product objects. You can easily add, remove, or modify items in the cart using methods.\n",
        "\n",
        "   ```python\n",
        "   class Product:\n",
        "       def __init__(self, name, price):\n",
        "self.name = name\n",
        "           self.price = price\n",
        "\n",
        "   class Cart:\n",
        "       def __init__(self):\n",
        "           self.items = []\n",
        "\n",
        "       def add_product(self, product):\n",
        "           self.items.append(product)\n",
        "\n",
        "       def total(self):\n",
        "           return sum(item.price for item in self.items)\n",
        "\n",
        "   # Example usage\n",
        "   product1 = Product(\"Laptop\", 1200)\n",
        "   product2 = Product(\"Phone\", 800)\n",
        "\n",
        "   my_cart = Cart()\n",
        "   my_cart.add_product(product1)\n",
        "   my_cart.add_product(product2)\n",
        "\n",
        "   print(f\"Total price: ${my_cart.total()}\")  # Output: Total price: $2000\n",
        "   ```\n",
        "\n",
        "   **Why it’s important**: OOP makes it easier to **model complex systems** in a way that mirrors the real world, leading to more intuitive and understandable code.\n",
        "\n",
        "---\n",
        "\n",
        "### Summary of Key Benefits of OOP in Python:\n",
        "\n",
        "1. **Modularity and Reusability**: Classes and objects make code modular and reusable across different projects.\n",
        "2. **Inheritance**: Enables code sharing and reduces duplication by inheriting behavior from other classes.\n",
        "3. **Encapsulation**: Protects data and hides implementation details, making the code safer and more robust.\n",
        "4. **Polymorphism**: Allows functions to handle different types of objects seamlessly, providing flexibility.\n",
        "5. **Scalability**: OOP is ideal for managing large and complex systems, as it helps organize and extend functionality in a structured way.\n",
        "\n",
        "---\n"
      ],
      "metadata": {
        "id": "zSnni0nzNDMa"
      }
    },
    {
      "cell_type": "markdown",
      "metadata": {
        "collapsed": true,
        "id": "X9IfTTzM8au3"
      },
      "source": [
        "# Object Oriented Programming\n",
        "\n",
        "Object Oriented Programming (OOP) tends to be one of the major obstacles for beginners when they are first starting to learn Python.\n",
        "\n",
        "There are many,many tutorials and lessons covering OOP so feel free to Google search other lessons, and I have also put some links to other useful tutorials online at the bottom of this Notebook.\n",
        "\n",
        "For this lesson we will construct our knowledge of OOP in Python by building on the following topics:\n",
        "\n",
        "* Objects\n",
        "* Using the *class* keyword\n",
        "* Creating class attributes\n",
        "* Creating methods in a class\n",
        "* Learning about Inheritance\n",
        "* Learning about Special Methods for classes\n",
        "\n",
        "Lets start the lesson by remembering about the Basic Python Objects. For example:"
      ]
    },
    {
      "cell_type": "markdown",
      "source": [],
      "metadata": {
        "id": "uAfpf6YCM_o9"
      }
    },
    {
      "cell_type": "code",
      "execution_count": null,
      "metadata": {
        "collapsed": true,
        "id": "TLjETRFV8au5"
      },
      "outputs": [],
      "source": [
        "l = [1,2,3]"
      ]
    },
    {
      "cell_type": "markdown",
      "metadata": {
        "id": "I6CZpmo_8au5"
      },
      "source": [
        "Remember how we could call methods on a list?"
      ]
    },
    {
      "cell_type": "code",
      "execution_count": null,
      "metadata": {
        "id": "ZewImq7U8au5",
        "outputId": "705160b9-051e-4c50-dd91-bbc9536ceb91"
      },
      "outputs": [
        {
          "data": {
            "text/plain": [
              "1"
            ]
          },
          "execution_count": 3,
          "metadata": {},
          "output_type": "execute_result"
        }
      ],
      "source": [
        "l.count(2)"
      ]
    },
    {
      "cell_type": "markdown",
      "metadata": {
        "id": "dtf1vvBt8au6"
      },
      "source": [
        "What we will basically be doing in this lecture is exploring how we could create an Object type like a list. We've already learned about how to create functions. So lets explore Objects in general:\n",
        "\n",
        "## Objects\n",
        "In Python, *everything is an object*. Remember from previous lectures we can use type() to check the type of object something is:"
      ]
    },
    {
      "cell_type": "code",
      "execution_count": null,
      "metadata": {
        "id": "7yG1N6VI8au6",
        "outputId": "83288f19-38ad-4406-bc6f-070a6d13926d"
      },
      "outputs": [
        {
          "name": "stdout",
          "output_type": "stream",
          "text": [
            "<type 'int'>\n",
            "<type 'list'>\n",
            "<type 'tuple'>\n",
            "<type 'dict'>\n"
          ]
        }
      ],
      "source": [
        "print type(1)\n",
        "print type([])\n",
        "print type(())\n",
        "print type({})"
      ]
    },
    {
      "cell_type": "markdown",
      "metadata": {
        "id": "y2QdHegD8au6"
      },
      "source": [
        "So we know all these things are objects, so how can we create our own Object types? That is where the *class* keyword comes in.\n",
        "## Introduction to Classes in Python\n",
        "The user defined objects are created using the class keyword. The class is a blueprint that defines a nature of a future object. From classes we can construct instances. An instance is a specific object created from a particular class. For example, above we created the object 'l' which was an instance of a list object.\n",
        "\n",
        "Let see how we can use **class**:"
      ]
    },
    {
      "cell_type": "code",
      "execution_count": null,
      "metadata": {
        "id": "e9Hi_zY58au6",
        "outputId": "615d33aa-18aa-4be4-e30a-ae29e7d7d509"
      },
      "outputs": [
        {
          "name": "stdout",
          "output_type": "stream",
          "text": [
            "<class '__main__.Sample'>\n"
          ]
        }
      ],
      "source": [
        "# Create a new object type called Sample\n",
        "class Sample(object):\n",
        "    pass\n",
        "\n",
        "# Instance of Sample\n",
        "x = Sample()\n",
        "\n",
        "print type(x)"
      ]
    },
    {
      "cell_type": "markdown",
      "source": [
        "\n",
        "\n",
        "In Python, **classes** are a way to create your own **custom data types**. A class is like a blueprint for creating **objects**. Each object created from the class can have its own **attributes** (data) and **methods** (functions).\n",
        "\n",
        "Think of a class as a template and an object as an instance of that template.\n",
        "\n",
        "### Why Use Classes?\n",
        "- **Organize code** into reusable parts.\n",
        "- Represent **real-world entities** (e.g., a class `Car` can represent a real car).\n",
        "- **Encapsulate data** and functionality (attributes and methods).\n",
        "\n",
        "### Basic Structure of a Class\n",
        "\n",
        "```python\n",
        "class ClassName:\n",
        "    # Method to initialize the object (called a constructor)\n",
        "    def __init__(self, attribute1, attribute2):\n",
        "        self.attribute1 = attribute1\n",
        "        self.attribute2 = attribute2\n",
        "    \n",
        "    # A simple method\n",
        "    def method_name(self):\n",
        "        print(\"This is a method.\")\n",
        "```\n",
        "\n",
        "- **`class`**: Keyword to define a class.\n",
        "- **`__init__()`**: A special method (called a constructor) that initializes an object’s attributes when it is created.\n",
        "- **`self`**: Refers to the instance of the class. It is used to access the attributes and methods of the object.\n",
        "\n",
        "---\n",
        "\n",
        "### Example 1: A Simple `Dog` Class\n",
        "\n",
        "Let’s create a class to represent a dog with attributes for `name` and `age`:\n",
        "\n",
        "```python\n",
        "class Dog:\n",
        "    # Constructor method to initialize attributes\n",
        "    def __init__(self, name, age):\n",
        "        self.name = name  # Attribute for the dog's name\n",
        "        self.age = age    # Attribute for the dog's age\n",
        "    \n",
        "    # Method to make the dog bark\n",
        "    def bark(self):\n",
        "        print(f\"{self.name} says Woof!\")\n",
        "\n",
        "    # Method to display the dog's age\n",
        "    def get_age(self):\n",
        "        return f\"{self.name} is {self.age} years old.\"\n",
        "```\n",
        "\n",
        "#### Creating Objects (Instances)\n",
        "Now that we have defined the `Dog` class, let's create some **instances** (objects) of this class:\n",
        "\n",
        "```python\n",
        "# Create an instance of Dog\n",
        "my_dog = Dog(\"Buddy\", 5)\n",
        "\n",
        "# Call methods on the object\n",
        "my_dog.bark()  # Output: Buddy says Woof!\n",
        "print(my_dog.get_age())  # Output: Buddy is 5 years old.\n",
        "```\n",
        "\n",
        "- **Creating an object**: `my_dog = Dog(\"Buddy\", 5)` creates an instance of `Dog` with the name \"Buddy\" and age 5.\n",
        "- **Calling a method**: `my_dog.bark()` makes the dog bark.\n",
        "- **Accessing attributes**: You can also access attributes directly like `my_dog.name`.\n",
        "\n",
        "---\n",
        "\n",
        "### Example 2: A `Car` Class with Methods\n",
        "\n",
        "Here’s a class to represent a car:\n",
        "\n",
        "```python\n",
        "class Car:\n",
        "    # Constructor method to initialize the car's attributes\n",
        "    def __init__(self, make, model, year):\n",
        "        self.make = make    # The brand of the car (e.g., Toyota)\n",
        "        self.model = model  # The model of the car (e.g., Corolla)\n",
        "        self.year = year    # The year the car was made\n",
        "    \n",
        "    # Method to display information about the car\n",
        "    def info(self):\n",
        "        return f\"{self.year} {self.make} {self.model}\"\n",
        "    \n",
        "    # Method to simulate starting the car\n",
        "    def start(self):\n",
        "        print(f\"{self.make} {self.model} is starting.\")\n",
        "```\n",
        "\n",
        "#### Creating Objects (Instances)\n",
        "```python\n",
        "# Create an instance of Car\n",
        "my_car = Car(\"Toyota\", \"Corolla\", 2020)\n",
        "\n",
        "# Call methods on the object\n",
        "print(my_car.info())  # Output: 2020 Toyota Corolla\n",
        "my_car.start()        # Output: Toyota Corolla is starting.\n",
        "```\n",
        "\n",
        "- **Creating an object**: `my_car = Car(\"Toyota\", \"Corolla\", 2020)` creates a `Car` object.\n",
        "- **Calling a method**: `my_car.info()` displays information about the car.\n",
        "- **Accessing attributes**: You can access attributes like `my_car.make`.\n",
        "\n",
        "---\n",
        "\n",
        "### Example 3: A `Student` Class with Attributes and Methods\n",
        "\n",
        "This example demonstrates a `Student` class with a few more attributes:\n",
        "\n",
        "```python\n",
        "class Student:\n",
        "    def __init__(self, name, grade):\n",
        "        self.name = name\n",
        "        self.grade = grade\n",
        "    \n",
        "    def greet(self):\n",
        "        print(f\"Hello, my name is {self.name}.\")\n",
        "    \n",
        "    def is_passing(self):\n",
        "        if self.grade >= 50:\n",
        "            return f\"{self.name} is passing.\"\n",
        "        else:\n",
        "            return f\"{self.name} is not passing.\"\n",
        "```\n",
        "\n",
        "#### Creating Objects (Instances)\n",
        "```python\n",
        "# Create an instance of Student\n",
        "student1 = Student(\"Alice\", 75)\n",
        "student2 = Student(\"Bob\", 45)\n",
        "\n",
        "# Call methods on the objects\n",
        "student1.greet()  # Output: Hello, my name is Alice.\n",
        "print(student1.is_passing())  # Output: Alice is passing.\n",
        "print(student2.is_passing())  # Output: Bob is not passing.\n",
        "```\n",
        "\n",
        "- **Creating multiple instances**: `student1` and `student2` represent different students.\n",
        "- **Logic inside methods**: The `is_passing()` method checks if the student's grade is 50 or above.\n",
        "\n",
        "---\n",
        "\n",
        "### Key Concepts to Explain in Class:\n",
        "\n",
        "1. **Class vs. Instance**:\n",
        "   - **Class**: The blueprint (e.g., `Dog`, `Car`, `Student`).\n",
        "   - **Instance**: A specific object created from the blueprint (e.g., `my_dog`, `my_car`, `student1`).\n",
        "\n",
        "2. **`__init__()` Method**:\n",
        "   - Used to **initialize attributes** of an object.\n",
        "   - The `self` parameter refers to the specific instance being created.\n",
        "\n",
        "3. **Methods**:\n",
        "   - **Functions inside a class** that define the behavior of an object.\n",
        "   - Called using **dot notation** (e.g., `my_dog.bark()`).\n",
        "\n",
        "4. **Attributes**:\n",
        "   - **Variables inside a class** that hold data about the object (e.g., `name`, `age`, `make`).\n",
        "\n",
        "---\n",
        "\n",
        "### Teaching Tips:\n",
        "\n",
        "- **Start Simple**: Begin with very simple classes with only one attribute and method.\n",
        "- **Interactive Coding**: Have students create their own classes and objects in Jupyter Notebook or a Python shell.\n",
        "- **Real-World Examples**: Relate classes to real-world objects like `Book`, `Phone`, or `Animal`.\n",
        "- **Experiment**: Encourage students to modify attributes and add new methods to see how objects behave.\n",
        "\n",
        "Would you like additional examples or a deeper dive into any of these concepts?"
      ],
      "metadata": {
        "id": "_UkonPZq8jfL"
      }
    },
    {
      "cell_type": "markdown",
      "metadata": {
        "id": "Tpo4UT738au7"
      },
      "source": [
        "By convention we give classes a name that starts with a capital letter. Note how x is now the reference to our new instance of a Sample class. In other words, we **instantiate** the Sample class.\n",
        "\n",
        "Inside of the class we currently just have pass. But we can define class attributes and methods.\n",
        "\n",
        "An **attribute** is a characteristic of an object.\n",
        "A **method** is an operation we can perform with the object.\n",
        "\n",
        "For example we can create a class called Dog. An attribute of a dog may be its breed or its name, while a method of a dog may be defined by a .bark() method which returns a sound.\n",
        "\n",
        "Let's get a better understanding of attributes through an example.\n",
        "\n",
        "##Attributes\n",
        "The syntax for creating an attribute is:\n",
        "    \n",
        "    self.attribute = something\n",
        "    \n",
        "There is a special method called:\n",
        "\n",
        "    __init__()\n",
        "\n",
        "This method is used to initialize the attributes of an object. For example:"
      ]
    },
    {
      "cell_type": "code",
      "execution_count": null,
      "metadata": {
        "collapsed": true,
        "id": "0Kj72T-a8au7"
      },
      "outputs": [],
      "source": [
        "class Dog(object):\n",
        "    def __init__(self,breed):\n",
        "        self.breed = breed\n",
        "\n",
        "sam = Dog(breed='Lab')\n",
        "frank = Dog(breed='Huskie')"
      ]
    },
    {
      "cell_type": "markdown",
      "metadata": {
        "id": "6wHH6tGe8au7"
      },
      "source": [
        "Lets break down what we have above.The special method\n",
        "\n",
        "    __init__()\n",
        "is called automatically right after the object has been created:\n",
        "\n",
        "    def __init__(self, breed):\n",
        "Each attribute in a class definition begins with a reference to the instance object. It is by convention named self. The breed is the argument. The value is passed during the class instantiation.\n",
        "\n",
        "     self.breed = breed"
      ]
    },
    {
      "cell_type": "markdown",
      "metadata": {
        "id": "e6qUSBAs8au7"
      },
      "source": [
        "Now we have created two instances of the Dog class. With two breed types, we can then access these attributes like this:"
      ]
    },
    {
      "cell_type": "code",
      "execution_count": null,
      "metadata": {
        "id": "5xdh8yZo8au7",
        "outputId": "bc92bbd3-7b0a-494c-8f76-8d0a8692287c"
      },
      "outputs": [
        {
          "data": {
            "text/plain": [
              "'Lab'"
            ]
          },
          "execution_count": 11,
          "metadata": {},
          "output_type": "execute_result"
        }
      ],
      "source": [
        "sam.breed"
      ]
    },
    {
      "cell_type": "code",
      "execution_count": null,
      "metadata": {
        "id": "07rGoc7c8au7",
        "outputId": "e26bd63f-d20a-44d2-f426-921f33b15764"
      },
      "outputs": [
        {
          "data": {
            "text/plain": [
              "'Huskie'"
            ]
          },
          "execution_count": 9,
          "metadata": {},
          "output_type": "execute_result"
        }
      ],
      "source": [
        "frank.breed"
      ]
    },
    {
      "cell_type": "markdown",
      "metadata": {
        "id": "SQUsv_W-8au7"
      },
      "source": [
        "Note how we don't have any parenthesis after breed, this is because it is an attribute and doesn't take any arguments.\n",
        "\n",
        "In Python there are also *class object attributes*. These Class Object Attributes are the same for any instance of the class. For example, we could create the attribute *species* for the Dog class. Dogs (regardless of their breed,name, or other attributes will always be mammals. We apply this logic in the following manner:"
      ]
    },
    {
      "cell_type": "code",
      "execution_count": null,
      "metadata": {
        "id": "_HR2kaAM8au7"
      },
      "outputs": [],
      "source": [
        "class Dog(object):\n",
        "\n",
        "    # Class Object Attribute\n",
        "    species = 'mammal'\n",
        "\n",
        "    def __init__(self,breed,name):\n",
        "        self.breed = breed\n",
        "        self.name = name"
      ]
    },
    {
      "cell_type": "code",
      "execution_count": null,
      "metadata": {
        "collapsed": true,
        "id": "ysomYLGo8au7"
      },
      "outputs": [],
      "source": [
        "sam = Dog('Lab','Sam')"
      ]
    },
    {
      "cell_type": "code",
      "execution_count": null,
      "metadata": {
        "id": "5RSGYbHF8au7",
        "outputId": "1dd3c3a7-dfcb-4aec-9932-1de26d82ba5e"
      },
      "outputs": [
        {
          "data": {
            "text/plain": [
              "'Sam'"
            ]
          },
          "execution_count": 6,
          "metadata": {},
          "output_type": "execute_result"
        }
      ],
      "source": [
        "sam.name"
      ]
    },
    {
      "cell_type": "markdown",
      "metadata": {
        "id": "g6eRggul8au7"
      },
      "source": [
        "Note that the Class Object Attribute is defined outside of any methods in the class. Also by convention, we place them first before the init."
      ]
    },
    {
      "cell_type": "code",
      "execution_count": null,
      "metadata": {
        "id": "Z0bS3ie88au8",
        "outputId": "43cc1b27-2ac7-40d9-a856-c3d461fe6376"
      },
      "outputs": [
        {
          "data": {
            "text/plain": [
              "'mammal'"
            ]
          },
          "execution_count": 7,
          "metadata": {},
          "output_type": "execute_result"
        }
      ],
      "source": [
        "sam.species"
      ]
    },
    {
      "cell_type": "markdown",
      "metadata": {
        "id": "8UDx7oQj8au8"
      },
      "source": [
        "## Methods\n",
        "\n",
        "Methods are functions defined inside the body of a class. They are used to perform operations with the attributes of our objects. Methods are essential in encapsulation concept of the OOP paradigm. This is essential in dividing responsibilities in programming, especially in large applications.\n",
        "\n",
        "You can basically think of methods as functions acting on an Object that take the Object itself into account through its *self* argument.\n",
        "\n",
        "Lets go through an example of creating a Circle class:"
      ]
    },
    {
      "cell_type": "code",
      "execution_count": null,
      "metadata": {
        "id": "CpQ60QQe8au8",
        "outputId": "79150044-6236-4a4a-8c6c-e2e3bc1f34bf"
      },
      "outputs": [
        {
          "name": "stdout",
          "output_type": "stream",
          "text": [
            "Radius is:  2\n",
            "Area is:  12.56\n"
          ]
        }
      ],
      "source": [
        "class Circle(object):\n",
        "    pi = 3.14\n",
        "\n",
        "    # Circle get instantiated with a radius (default is 1)\n",
        "    def __init__(self, radius=1):\n",
        "        self.radius = radius\n",
        "\n",
        "    # Area method calculates the area. Note the use of self.\n",
        "    def area(self):\n",
        "        return self.radius * self.radius * Circle.pi\n",
        "\n",
        "    # Method for resetting Radius\n",
        "    def setRadius(self, radius):\n",
        "        self.radius = radius\n",
        "\n",
        "    # Method for getting radius (Same as just calling .radius)\n",
        "    def getRadius(self):\n",
        "        return self.radius\n",
        "\n",
        "\n",
        "c = Circle()\n",
        "\n",
        "c.setRadius(2)\n",
        "print 'Radius is: ',c.getRadius()\n",
        "print 'Area is: ',c.area()"
      ]
    },
    {
      "cell_type": "markdown",
      "metadata": {
        "id": "cvaPP9hP8au8"
      },
      "source": [
        "Great! Notice how we used self. notation to reference attributes of the class within the method calls. Review how the code above works and try creating your own method\n",
        "\n",
        "## Inheritance\n",
        "\n",
        "Inheritance is a way to form new classes using classes that have already been defined. The newly formed classes are called derived classes, the classes that we derive from are called base classes. Important benefits of inheritance are code reuse and reduction of complexity of a program. The derived classes (descendants) override or extend the functionality of base classes (ancestors).\n",
        "\n",
        "Lets see an example by incorporating our previous work on the Dog class:"
      ]
    },
    {
      "cell_type": "code",
      "execution_count": null,
      "metadata": {
        "collapsed": true,
        "id": "tFWrj9-F8au8"
      },
      "outputs": [],
      "source": [
        "class Animal(object):\n",
        "    def __init__(self):\n",
        "        print \"Animal created\"\n",
        "\n",
        "    def whoAmI(self):\n",
        "        print \"Animal\"\n",
        "\n",
        "    def eat(self):\n",
        "        print \"Eating\"\n",
        "\n",
        "\n",
        "class Dog(Animal):\n",
        "    def __init__(self):\n",
        "        Animal.__init__(self)\n",
        "        print \"Dog created\"\n",
        "\n",
        "    def whoAmI(self):\n",
        "        print \"Dog\"\n",
        "\n",
        "    def bark(self):\n",
        "        print \"Woof!\""
      ]
    },
    {
      "cell_type": "code",
      "execution_count": null,
      "metadata": {
        "id": "bilk_9Aw8au8",
        "outputId": "0d2bd8bd-467d-4d09-aa2e-00964973ee23"
      },
      "outputs": [
        {
          "name": "stdout",
          "output_type": "stream",
          "text": [
            "Animal created\n",
            "Dog created\n"
          ]
        }
      ],
      "source": [
        "d = Dog()"
      ]
    },
    {
      "cell_type": "code",
      "execution_count": null,
      "metadata": {
        "id": "GKFsIw7S8au8",
        "outputId": "969a8ad0-413f-4c84-9e5f-8c98c2360803"
      },
      "outputs": [
        {
          "name": "stdout",
          "output_type": "stream",
          "text": [
            "Dog\n"
          ]
        }
      ],
      "source": [
        "d.whoAmI()"
      ]
    },
    {
      "cell_type": "code",
      "execution_count": null,
      "metadata": {
        "id": "jtZvdp7y8au8",
        "outputId": "33d54e26-9e1c-4c5a-e461-30efcf782e4f"
      },
      "outputs": [
        {
          "name": "stdout",
          "output_type": "stream",
          "text": [
            "Eating\n"
          ]
        }
      ],
      "source": [
        "d.eat()"
      ]
    },
    {
      "cell_type": "code",
      "execution_count": null,
      "metadata": {
        "id": "aqOyzQIX8au8",
        "outputId": "a3c140fc-4236-475f-9e45-a06b582379b3"
      },
      "outputs": [
        {
          "name": "stdout",
          "output_type": "stream",
          "text": [
            "Woof!\n"
          ]
        }
      ],
      "source": [
        "d.bark()"
      ]
    },
    {
      "cell_type": "markdown",
      "metadata": {
        "id": "1GI0JkIf8au8"
      },
      "source": [
        "In this example, we have two classes: Animal and Dog. The Animal is the base class, the Dog is the derived class.\n",
        "\n",
        "The derived class inherits the functionality of the base class.\n",
        "\n",
        "* It is shown by the eat() method.\n",
        "\n",
        "The derived class modifies existing behavior of the base class.\n",
        "\n",
        "* shown by the whoAmI() method.\n",
        "\n",
        "Finally, the derived class extends the functionality of the base class, by defining a new bark() method."
      ]
    },
    {
      "cell_type": "markdown",
      "metadata": {
        "id": "tSHi6ehr8au8"
      },
      "source": [
        "## Special Methods\n",
        "Finally lets go over special methods. Classes in Python can implement certain operations with special method names. These methods are not actually called directly but by Python specific language syntax. For example Lets create a Book class:"
      ]
    },
    {
      "cell_type": "code",
      "execution_count": null,
      "metadata": {
        "collapsed": true,
        "id": "3WyPYI8i8au8"
      },
      "outputs": [],
      "source": [
        "class Book(object):\n",
        "    def __init__(self, title, author, pages):\n",
        "        print \"A book is created\"\n",
        "        self.title = title\n",
        "        self.author = author\n",
        "        self.pages = pages\n",
        "\n",
        "    def __str__(self):\n",
        "        return \"Title:%s , author:%s, pages:%s \" %(self.title, self.author, self.pages)\n",
        "\n",
        "    def __len__(self):\n",
        "        return self.pages\n",
        "\n",
        "    def __del__(self):\n",
        "        print \"A book is destroyed\""
      ]
    },
    {
      "cell_type": "code",
      "execution_count": null,
      "metadata": {
        "id": "hpjcIDYm8au9",
        "outputId": "82a87b05-a84a-481f-aee6-0bebd77bcdb4"
      },
      "outputs": [
        {
          "name": "stdout",
          "output_type": "stream",
          "text": [
            "A book is created\n",
            "Title:Python Rocks! , author:Jose Portilla, pages:159 \n",
            "159\n",
            "A book is destroyed\n"
          ]
        }
      ],
      "source": [
        "book = Book(\"Python Rocks!\", \"Jose Portilla\", 159)\n",
        "\n",
        "#Special Methods\n",
        "print book\n",
        "print len(book)\n",
        "del book"
      ]
    },
    {
      "cell_type": "markdown",
      "metadata": {
        "id": "GhVynvXL8au9"
      },
      "source": [
        "    The __init__(), __str__(), __len__() and the __del__() methods.\n",
        "These special methods are defined by their use of underscores. They allow us to use Python specific functions on objects created through our class.\n",
        "\n",
        "**Great! After this lecture you should have a basic understanding of how to create your own objects with class in Python. You will be utilizing this heavily in your next milestone project!**\n",
        "\n",
        "For more great resources on this topic, check out:\n",
        "\n",
        "[Jeff Knupp's Post](https://www.jeffknupp.com/blog/2014/06/18/improve-your-python-python-classes-and-object-oriented-programming/)\n",
        "\n",
        "[Mozilla's Post](https://developer.mozilla.org/en-US/Learn/Python/Quickly_Learn_Object_Oriented_Programming)\n",
        "\n",
        "[Tutorial's Point](http://www.tutorialspoint.com/python/python_classes_objects.htm)\n",
        "\n",
        "[Official Documentation](https://docs.python.org/3/tutorial/classes.html)"
      ]
    }
  ],
  "metadata": {
    "kernelspec": {
      "display_name": "Python 3",
      "language": "python",
      "name": "python3"
    },
    "language_info": {
      "codemirror_mode": {
        "name": "ipython",
        "version": 3
      },
      "file_extension": ".py",
      "mimetype": "text/x-python",
      "name": "python",
      "nbconvert_exporter": "python",
      "pygments_lexer": "ipython3",
      "version": "3.5.1"
    },
    "colab": {
      "provenance": []
    }
  },
  "nbformat": 4,
  "nbformat_minor": 0
}