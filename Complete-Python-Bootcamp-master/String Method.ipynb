{
 "cells": [
  {
   "cell_type": "markdown",
   "metadata": {},
   "source": [
    "# String Methods\n",
    "\n",
    "Strings also have a variety of built-in methods that allow for powerful manipulation and querying. In Python, strings are immutable, meaning their values cannot be changed after creation. However, these methods provide ways to return new strings based on various operations.\n",
    "\n",
    "Like list methods, string methods are called using the syntax:\n",
    "\n",
    "    string.method(arg1, arg2, etc...)\n",
    "\n",
    "We'll take a look at some common string methods and how they work."
   ]
  },
  {
   "cell_type": "code",
   "execution_count": 1,
   "metadata": {},
   "outputs": [],
   "source": [
    "# Create a simple string\n",
    "my_string = 'Hello World'"
   ]
  },
  {
   "cell_type": "markdown",
   "metadata": {},
   "source": [
    "Fortunately, with iPython and Jupyter Notebook, we can quickly see all the possible methods using the tab key. Here are some commonly used string methods:\n",
    "\n",
    "* `split()`\n",
    "* `lower()`\n",
    "* `upper()`\n",
    "* `startswith()`\n",
    "* `endswith()`\n",
    "* `find()`\n",
    "* `replace()`\n",
    "* `strip()`\n",
    "\n",
    "Let's try out a few of them."
   ]
  },
  {
   "cell_type": "markdown",
   "metadata": {},
   "source": [
    "### `split()`\n",
    "The `split()` method splits a string into a list, using whitespace as the default delimiter. You can also specify other delimiters like commas or periods."
   ]
  },
  {
   "cell_type": "code",
   "execution_count": 2,
   "metadata": {},
   "outputs": [],
   "source": [
    "# Split string into a list of words\n",
    "words = my_string.split()\n",
    "print(words)"
   ]
  },
  {
   "cell_type": "markdown",
   "metadata": {},
   "source": [
    "### `lower()` and `upper()`\n",
    "`lower()` converts all the characters in the string to lowercase, while `upper()` converts them to uppercase."
   ]
  },
  {
   "cell_type": "code",
   "execution_count": 3,
   "metadata": {},
   "outputs": [],
   "source": [
    "# Convert string to lowercase\n",
    "print(my_string.lower())\n",
    "\n",
    "# Convert string to uppercase\n",
    "print(my_string.upper())"
   ]
  },
  {
   "cell_type": "markdown",
   "metadata": {},
   "source": [
    "### `startswith()` and `endswith()`\n",
    "These methods check if a string starts or ends with a specific substring. They return a boolean value."
   ]
  },
  {
   "cell_type": "code",
   "execution_count": 4,
   "metadata": {},
   "outputs": [],
   "source": [
    "# Check if the string starts with 'Hello'\n",
    "print(my_string.startswith('Hello'))\n",
    "\n",
    "# Check if the string ends with 'World'\n",
    "print(my_string.endswith('World'))"
   ]
  },
  {
   "cell_type": "markdown",
   "metadata": {},
   "source": [
    "### `find()`\n",
    "The `find()` method returns the index of the first occurrence of the specified substring. If the substring is not found, it returns `-1`."
   ]
  },
  {
   "cell_type": "code",
   "execution_count": 5,
   "metadata": {},
   "outputs": [],
   "source": [
    "# Find the index of 'World'\n",
    "print(my_string.find('World'))"
   ]
  },
  {
   "cell_type": "markdown",
   "metadata": {},
   "source": [
    "### `replace()`\n",
    "The `replace()` method replaces all occurrences of a substring with another substring."
   ]
  },
  {
   "cell_type": "code",
   "execution_count": 6,
   "metadata": {},
   "outputs": [],
   "source": [
    "# Replace 'World' with 'There'\n",
    "new_string = my_string.replace('World', 'There')\n",
    "print(new_string)"
   ]
  },
  {
   "cell_type": "markdown",
   "metadata": {},
   "source": [
    "### `strip()`\n",
    "The `strip()` method removes any leading and trailing whitespace from the string. You can also specify characters to remove."
   ]
  },
  {
   "cell_type": "code",
   "execution_count": 7,
   "metadata": {},
   "outputs": [],
   "source": [
    "# Strip leading and trailing spaces\n",
    "space_string = '   Hello World   '\n",
    "print(space_string.strip())"
   ]
  },
  {
   "cell_type": "markdown",
   "metadata": {},
   "source": [
    "You can always use `help()` to get more information about any method, and in Jupyter Notebook, Shift + Tab shows useful method hints!"
   ]
  },
  {
   "cell_type": "code",
   "execution_count": 8,
   "metadata": {},
   "outputs": [
    {
     "name": "stdout",
     "output_type": "stream",
     "text": [
      "Help on built-in function split:\n",
      "\n",
      "split(...)\n",
      "    S.split(sep=None, maxsplit=-1) -> list of strings\n",
      "    \n",
      "    Return a list of the words in S, using sep as the delimiter string.\n",
      "    If maxsplit is given, at most maxsplit splits are done.\n",
      "    If sep is not specified or is None, any whitespace string is a separator.\n"
     ]
    }
   ],
   "source": [
    "help(my_string.split)"
   ]
  },
  {
   "cell_type": "markdown",
   "metadata": {},
   "source": [
    "Feel free to experiment with more string methods to manipulate and query strings in different ways!"
   ]
  }
 ],
 "metadata": {
  "kernelspec": {
   "display_name": "Python 2",
   "language": "python",
   "name": "python2"
  },
  "language_info": {
   "codemirror_mode": {
    "name": "ipython",
    "version": 2
   },
   "file_extension": ".py",
   "mimetype": "text/x-python",
   "name": "python",
   "nbconvert_exporter": "python",
   "pygments_lexer": "ipython2",
   "version": "2.7.10"
  }
 },
 "nbformat": 4,
 "nbformat_minor": 0
}
