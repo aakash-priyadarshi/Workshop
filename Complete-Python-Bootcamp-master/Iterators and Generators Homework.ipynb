{
  "cells": [
    {
      "cell_type": "markdown",
      "metadata": {
        "id": "view-in-github",
        "colab_type": "text"
      },
      "source": [
        "<a href=\"https://colab.research.google.com/github/aakash-priyadarshi/Workshop/blob/master/Complete-Python-Bootcamp-master/Iterators%20and%20Generators%20Homework.ipynb\" target=\"_parent\"><img src=\"https://colab.research.google.com/assets/colab-badge.svg\" alt=\"Open In Colab\"/></a>"
      ]
    },
    {
      "cell_type": "markdown",
      "metadata": {
        "id": "IGGZ-p_ElxDj"
      },
      "source": [
        "#Iterators and Generators Homework\n",
        "\n",
        "###Problem 1\n",
        "\n",
        "Create a generator that generates the squares of numbers up to some number N."
      ]
    },
    {
      "cell_type": "code",
      "execution_count": null,
      "metadata": {
        "collapsed": true,
        "id": "J7rTZpfZlxDk"
      },
      "outputs": [],
      "source": [
        "def gensquares(N):\n",
        "    pass"
      ]
    },
    {
      "cell_type": "code",
      "execution_count": null,
      "metadata": {
        "id": "w2vmxLSzlxDl",
        "outputId": "fd7007e1-e780-4318-a324-dc2c17e08fd4"
      },
      "outputs": [
        {
          "name": "stdout",
          "output_type": "stream",
          "text": [
            "0\n",
            "1\n",
            "4\n",
            "9\n",
            "16\n",
            "25\n",
            "36\n",
            "49\n",
            "64\n",
            "81\n"
          ]
        }
      ],
      "source": [
        "for x in gensquares(10):\n",
        "    print x"
      ]
    },
    {
      "cell_type": "markdown",
      "metadata": {
        "id": "RvyfQJjDlxDl"
      },
      "source": [
        "###Problem 2\n",
        "\n",
        "Create a generator that yields \"n\" random numbers between a low and high number (that are inputs). Note: Use the random library. For example:"
      ]
    },
    {
      "cell_type": "code",
      "execution_count": null,
      "metadata": {
        "id": "xZNEQ3fXlxDm",
        "outputId": "78f5f0f0-29f0-4f23-d506-47da48d8f788"
      },
      "outputs": [
        {
          "data": {
            "text/plain": [
              "6"
            ]
          },
          "execution_count": 6,
          "metadata": {},
          "output_type": "execute_result"
        }
      ],
      "source": [
        "import random\n",
        "\n",
        "random.randint(1,10)"
      ]
    },
    {
      "cell_type": "code",
      "execution_count": null,
      "metadata": {
        "collapsed": true,
        "id": "sFApSJOllxDm"
      },
      "outputs": [],
      "source": [
        "def rand_num(low,high,n):\n",
        "    pass"
      ]
    },
    {
      "cell_type": "code",
      "execution_count": null,
      "metadata": {
        "id": "4L6ngFXflxDm",
        "outputId": "6ca43480-a397-4020-b7bd-87eda25a10a8"
      },
      "outputs": [
        {
          "name": "stdout",
          "output_type": "stream",
          "text": [
            "6\n",
            "7\n",
            "6\n",
            "9\n",
            "9\n",
            "4\n",
            "3\n",
            "7\n",
            "8\n",
            "1\n",
            "6\n",
            "1\n"
          ]
        }
      ],
      "source": [
        "for num in rand_num(1,10,12):\n",
        "    print num"
      ]
    },
    {
      "cell_type": "markdown",
      "metadata": {
        "id": "utbf0if1lxDm"
      },
      "source": [
        "###Problem 3\n",
        "\n",
        "Use the iter() function to convert the string below\n"
      ]
    },
    {
      "cell_type": "code",
      "execution_count": null,
      "metadata": {
        "id": "z_hpEmRxlxDm"
      },
      "outputs": [],
      "source": [
        "s = 'hello'\n",
        "\n",
        "#code here"
      ]
    },
    {
      "cell_type": "markdown",
      "metadata": {
        "id": "Zrdc_XBelxDn"
      },
      "source": [
        "###Problem 4\n",
        "Explain a use case for a generator using a yield statement where you would not want to use a normal function with a return statement.\n",
        "\n"
      ]
    },
    {
      "cell_type": "markdown",
      "metadata": {
        "id": "7o7VNvavlxDn"
      },
      "source": []
    },
    {
      "cell_type": "markdown",
      "metadata": {
        "id": "cEck9t8hlxDn"
      },
      "source": [
        "### Extra Credit!\n",
        "Can you explain what *gencomp* is in the code below? (Note: We never covered this in lecture! You will have to do some googling/Stack Overflowing!)"
      ]
    },
    {
      "cell_type": "code",
      "execution_count": null,
      "metadata": {
        "id": "_blPfkEhlxDn",
        "outputId": "f135bebf-d987-4c6c-9b11-c743cb45380d"
      },
      "outputs": [
        {
          "name": "stdout",
          "output_type": "stream",
          "text": [
            "4\n",
            "5\n"
          ]
        }
      ],
      "source": [
        "my_list = [1,2,3,4,5]\n",
        "\n",
        "gencomp = (item for item in my_list if item > 3)\n",
        "\n",
        "for item in gencomp:\n",
        "    print item"
      ]
    },
    {
      "cell_type": "markdown",
      "metadata": {
        "id": "Y1zzVcjTlxDn"
      },
      "source": [
        "Hint google: generator comprehension is!\n",
        "\n",
        "#Great Job!"
      ]
    }
  ],
  "metadata": {
    "kernelspec": {
      "display_name": "Python 2",
      "language": "python",
      "name": "python2"
    },
    "language_info": {
      "codemirror_mode": {
        "name": "ipython",
        "version": 2
      },
      "file_extension": ".py",
      "mimetype": "text/x-python",
      "name": "python",
      "nbconvert_exporter": "python",
      "pygments_lexer": "ipython2",
      "version": "2.7.10"
    },
    "colab": {
      "provenance": [],
      "include_colab_link": true
    }
  },
  "nbformat": 4,
  "nbformat_minor": 0
}