{
  "cells": [
    {
      "cell_type": "markdown",
      "metadata": {
        "id": "view-in-github",
        "colab_type": "text"
      },
      "source": [
        "<a href=\"https://colab.research.google.com/github/aakash-priyadarshi/Workshop/blob/master/Complete-Python-Bootcamp-master/Milestone%20Project%201-%20Walkthrough%20Steps%20Workbook.ipynb\" target=\"_parent\"><img src=\"https://colab.research.google.com/assets/colab-badge.svg\" alt=\"Open In Colab\"/></a>"
      ]
    },
    {
      "cell_type": "markdown",
      "metadata": {
        "id": "6OHxkydxkDFV"
      },
      "source": [
        "# Milestone Project 1: Walk-through Steps Workbook\n",
        "\n",
        "Below is a set of steps for you to follow to try to create the Tic Tac Toe Milestone Project game!\n",
        "\n",
        "[![Open in Google Colab](https://colab.research.google.com/assets/colab-badge.svg)](https://colab.research.google.com/github/aakash-priyadarshi/Workshop/blob/master/Complete-Python-Bootcamp-master/Milestone%20Project%201-%20Walkthrough%20Steps%20Workbook.ipynb)"
      ]
    },
    {
      "cell_type": "code",
      "execution_count": null,
      "metadata": {
        "collapsed": true,
        "id": "sE8ARw8UkDFW"
      },
      "outputs": [],
      "source": [
        "# For using the same code in either Python 2 or 3\n",
        "from __future__ import print_function\n",
        "\n",
        "## Note: Python 2 users, use raw_input() to get player input. Python 3 users, use input()"
      ]
    },
    {
      "cell_type": "markdown",
      "metadata": {
        "id": "sZWfVm84kDFW"
      },
      "source": [
        "**Step 1: Write a function that can print out a board. Set up your board as a list, where each index 1-9 corresponds with a number on a number pad, so you get a 3 by 3 board representation.**"
      ]
    },
    {
      "cell_type": "code",
      "execution_count": null,
      "metadata": {
        "collapsed": true,
        "id": "XzX3TqSokDFW"
      },
      "outputs": [],
      "source": [
        "from IPython.display import clear_output\n",
        "def display_board(board):\n",
        "\n",
        "    pass"
      ]
    },
    {
      "cell_type": "markdown",
      "metadata": {
        "id": "hHEJPIrSkDFW"
      },
      "source": [
        "**Step 2: Write a function that can take in a player input and assign their marker as 'X' or 'O'. Think about using *while* loops to continually ask until you get a correct answer.**"
      ]
    },
    {
      "cell_type": "code",
      "execution_count": null,
      "metadata": {
        "collapsed": true,
        "id": "RatjU2iVkDFW"
      },
      "outputs": [],
      "source": [
        "def player_input():\n",
        "\n",
        "    pass"
      ]
    },
    {
      "cell_type": "markdown",
      "metadata": {
        "id": "J7waamMekDFX"
      },
      "source": [
        "**Step 3: Write a function that takes, in the board list object, a marker ('X' or 'O'), and a desired position (number 1-9) and assigns it to the board.**"
      ]
    },
    {
      "cell_type": "code",
      "execution_count": null,
      "metadata": {
        "collapsed": true,
        "id": "7VQ3mlz2kDFX"
      },
      "outputs": [],
      "source": [
        "def place_marker(board, marker, position):\n",
        "    pass"
      ]
    },
    {
      "cell_type": "markdown",
      "metadata": {
        "id": "-00xFk47kDFX"
      },
      "source": [
        "**Step 4: Write a function that takes in a board and a mark (X or O) and then checks to see if that mark has won. **"
      ]
    },
    {
      "cell_type": "code",
      "execution_count": null,
      "metadata": {
        "collapsed": true,
        "id": "5lUiLCXbkDFX"
      },
      "outputs": [],
      "source": [
        "def win_check(board,mark):\n",
        "\n",
        "    pass"
      ]
    },
    {
      "cell_type": "markdown",
      "metadata": {
        "id": "RDaVI3RwkDFX"
      },
      "source": [
        "**Step 5: Write a function that uses the random module to randomly decide which player goes first. You may want to lookup random.randint() Return a string of which player went first.**"
      ]
    },
    {
      "cell_type": "code",
      "execution_count": null,
      "metadata": {
        "collapsed": true,
        "id": "tLtCzG7ykDFX"
      },
      "outputs": [],
      "source": [
        "import random\n",
        "def choose_first():\n",
        "    pass"
      ]
    },
    {
      "cell_type": "markdown",
      "metadata": {
        "id": "zqOYNhGXkDFX"
      },
      "source": [
        "**Step 6: Write a function that returns a boolean indicating whether a space on the board is freely available.**"
      ]
    },
    {
      "cell_type": "code",
      "execution_count": null,
      "metadata": {
        "collapsed": true,
        "id": "cytREsb-kDFX"
      },
      "outputs": [],
      "source": [
        "def space_check(board, position):\n",
        "\n",
        "    pass"
      ]
    },
    {
      "cell_type": "markdown",
      "metadata": {
        "id": "JAkg_9CjkDFX"
      },
      "source": [
        "**Step 7: Write a function that checks if the board is full and returns a boolean value. True if full, False otherwise.**"
      ]
    },
    {
      "cell_type": "code",
      "execution_count": null,
      "metadata": {
        "collapsed": true,
        "id": "SoSqLG2TkDFY"
      },
      "outputs": [],
      "source": [
        "def full_board_check(board):\n",
        "    pass"
      ]
    },
    {
      "cell_type": "markdown",
      "metadata": {
        "id": "I3Et5QkJkDFY"
      },
      "source": [
        "**Step 8: Write a function that asks for a player's next position (as a number 1-9) and then uses the function from step 6 to check if its a free position. If it is, then return the position for later use. **"
      ]
    },
    {
      "cell_type": "code",
      "execution_count": null,
      "metadata": {
        "collapsed": true,
        "id": "Kj0FZXZGkDFY"
      },
      "outputs": [],
      "source": [
        "def player_choice(board):\n",
        "    pass"
      ]
    },
    {
      "cell_type": "markdown",
      "metadata": {
        "id": "58c8BH_mkDFY"
      },
      "source": [
        "**Step 9: Write a function that asks the player if they want to play again and returns a boolean True if they do want to play again.**"
      ]
    },
    {
      "cell_type": "code",
      "execution_count": null,
      "metadata": {
        "collapsed": true,
        "id": "6GIL44uBkDFY"
      },
      "outputs": [],
      "source": [
        "def replay():\n",
        "\n",
        "    pass"
      ]
    },
    {
      "cell_type": "markdown",
      "metadata": {
        "collapsed": true,
        "id": "EC0x2GXVkDFY"
      },
      "source": [
        "**Step 10: Here comes the hard part! Use while loops and the functions you've made to run the game!**"
      ]
    },
    {
      "cell_type": "code",
      "execution_count": null,
      "metadata": {
        "id": "cyykK-njkDFY",
        "outputId": "5531c21f-cdd8-4214-c4db-569289fd16c6"
      },
      "outputs": [
        {
          "name": "stdout",
          "output_type": "stream",
          "text": [
            "Welcome to Tic Tac Toe!\n"
          ]
        }
      ],
      "source": [
        "print('Welcome to Tic Tac Toe!')\n",
        "\n",
        "#while True:\n",
        "    # Set the game up here\n",
        "    #pass\n",
        "\n",
        "    #while game_on:\n",
        "        #Player 1 Turn\n",
        "\n",
        "\n",
        "        # Player2's turn.\n",
        "\n",
        "            #pass\n",
        "\n",
        "    #if not replay():\n",
        "        #break"
      ]
    },
    {
      "cell_type": "markdown",
      "metadata": {
        "collapsed": true,
        "id": "L2IGSJxakDFZ"
      },
      "source": [
        "## Good Job!"
      ]
    }
  ],
  "metadata": {
    "kernelspec": {
      "display_name": "Python 2",
      "language": "python",
      "name": "python2"
    },
    "language_info": {
      "codemirror_mode": {
        "name": "ipython",
        "version": 2
      },
      "file_extension": ".py",
      "mimetype": "text/x-python",
      "name": "python",
      "nbconvert_exporter": "python",
      "pygments_lexer": "ipython2",
      "version": "2.7.11"
    },
    "colab": {
      "provenance": [],
      "include_colab_link": true
    }
  },
  "nbformat": 4,
  "nbformat_minor": 0
}