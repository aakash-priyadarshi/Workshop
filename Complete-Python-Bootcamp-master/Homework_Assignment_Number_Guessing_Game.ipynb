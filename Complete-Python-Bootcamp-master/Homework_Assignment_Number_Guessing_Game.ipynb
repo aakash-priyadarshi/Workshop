{
  "nbformat": 4,
  "nbformat_minor": 0,
  "metadata": {
    "colab": {
      "provenance": [],
      "authorship_tag": "ABX9TyPrxfZKbkQzWqT5vB3I4uTB",
      "include_colab_link": true
    },
    "kernelspec": {
      "name": "python3",
      "display_name": "Python 3"
    },
    "language_info": {
      "name": "python"
    }
  },
  "cells": [
    {
      "cell_type": "markdown",
      "metadata": {
        "id": "view-in-github",
        "colab_type": "text"
      },
      "source": [
        "<a href=\"https://colab.research.google.com/github/aakash-priyadarshi/Workshop/blob/master/Complete-Python-Bootcamp-master/Homework_Assignment_Number_Guessing_Game.ipynb\" target=\"_parent\"><img src=\"https://colab.research.google.com/assets/colab-badge.svg\" alt=\"Open In Colab\"/></a>"
      ]
    },
    {
      "cell_type": "markdown",
      "source": [
        "### Homework Assignment: Number Guessing Game\n",
        "\n",
        "In this homework, you will create a simple number-guessing game. The player will try to guess a randomly generated number within a range. Each incorrect guess will give a hint if the guess was too high or too low. The game will also count the number of guesses the player takes to find the correct number.\n",
        "\n",
        "---\n",
        "\n",
        "### Step 1: Import Necessary Modules\n",
        "\n",
        "First, import the `random` module, which will allow us to generate random numbers."
      ],
      "metadata": {
        "id": "1b0tZDVdoUhg"
      }
    },
    {
      "cell_type": "code",
      "source": [
        "import random"
      ],
      "metadata": {
        "id": "KyNQONgWoTrg"
      },
      "execution_count": null,
      "outputs": []
    },
    {
      "cell_type": "markdown",
      "source": [
        "### Step 2: Define a Function to Generate a Random Number\n",
        "\n",
        "Write a function to generate a random number between a given range."
      ],
      "metadata": {
        "id": "ur4seq1YoXub"
      }
    },
    {
      "cell_type": "code",
      "source": [
        "def generate_random_number(min_value, max_value):\n",
        "    return random.randint(min_value, max_value)"
      ],
      "metadata": {
        "id": "K4FtmQzcoacs"
      },
      "execution_count": null,
      "outputs": []
    },
    {
      "cell_type": "markdown",
      "source": [
        "This function takes two arguments: `min_value` and `max_value`, and returns a random number within that range.\n",
        "\n",
        "---\n",
        "\n",
        "### Step 3: Define a Function to Get User Input\n",
        "\n",
        "Now, you will need a function that asks the user to guess the number. Ensure the input is valid (i.e., it's a number within the defined range).\n"
      ],
      "metadata": {
        "id": "QWhhyt5iocpT"
      }
    },
    {
      "cell_type": "code",
      "source": [
        "def get_user_guess(min_value, max_value):\n",
        "    while True:\n",
        "        try:\n",
        "            guess = int(input(f\"Guess a number between {min_value} and {max_value}: \"))\n",
        "            if guess < min_value or guess > max_value:\n",
        "                print(f\"Please enter a number between {min_value} and {max_value}.\")\n",
        "            else:\n",
        "                return guess\n",
        "        except ValueError:\n",
        "            print(\"Invalid input. Please enter a number.\")"
      ],
      "metadata": {
        "id": "Bv3ZnhUGoes2"
      },
      "execution_count": null,
      "outputs": []
    },
    {
      "cell_type": "markdown",
      "source": [
        "This function will keep asking the player to input a guess until it receives a valid number within the specified range.\n",
        "\n",
        "---\n",
        "\n",
        "### Step 4: Define a Function to Compare the Guess\n",
        "\n",
        "Create a function that compares the player's guess to the randomly generated number."
      ],
      "metadata": {
        "id": "hIOv-W8KotZr"
      }
    },
    {
      "cell_type": "code",
      "source": [
        "def check_guess(guess, target):\n",
        "    if guess < target:\n",
        "        print(\"Too low!\")\n",
        "        return False\n",
        "    elif guess > target:\n",
        "        print(\"Too high!\")\n",
        "        return False\n",
        "    else:\n",
        "        print(\"Congratulations! You guessed the number.\")\n",
        "        return True"
      ],
      "metadata": {
        "id": "LnyNtGN5oziC"
      },
      "execution_count": null,
      "outputs": []
    },
    {
      "cell_type": "markdown",
      "source": [
        "This function will return `True` if the guess is correct, otherwise, it will return `False` and give the player a hint.\n",
        "\n",
        "---\n",
        "\n",
        "### Step 5: Define the Main Game Loop\n",
        "\n",
        "Next, create the main game loop. This loop will allow the player to guess multiple times until they find the correct number."
      ],
      "metadata": {
        "id": "M2G5TLYOozDc"
      }
    },
    {
      "cell_type": "code",
      "source": [
        "def play_game():\n",
        "    print(\"Welcome to the Number Guessing Game!\")\n",
        "\n",
        "    # Set the range\n",
        "    min_value = 1\n",
        "    max_value = 100\n",
        "\n",
        "    # Generate a random number\n",
        "    target_number = generate_random_number(min_value, max_value)\n",
        "\n",
        "    # Initialize the guess count\n",
        "    guess_count = 0\n",
        "\n",
        "    # Game loop\n",
        "    while True:\n",
        "        guess = get_user_guess(min_value, max_value)\n",
        "        guess_count += 1\n",
        "        if check_guess(guess, target_number):\n",
        "            break\n",
        "\n",
        "    # End of the game\n",
        "    print(f\"You guessed the number in {guess_count} tries!\")"
      ],
      "metadata": {
        "id": "nb_hbENJo8Am"
      },
      "execution_count": null,
      "outputs": []
    },
    {
      "cell_type": "markdown",
      "source": [
        "### Step 6: Optional - Add Difficulty Levels\n",
        "\n",
        "You can add difficulty levels to the game by allowing the player to choose a range at the start."
      ],
      "metadata": {
        "id": "9SqcyUFApEs6"
      }
    },
    {
      "cell_type": "code",
      "source": [
        "def choose_difficulty():\n",
        "    print(\"Choose a difficulty level:\")\n",
        "    print(\"1. Easy (1-50)\")\n",
        "    print(\"2. Medium (1-100)\")\n",
        "    print(\"3. Hard (1-500)\")\n",
        "\n",
        "    while True:\n",
        "        choice = input(\"Enter 1, 2, or 3: \")\n",
        "        if choice == '1':\n",
        "            return 1, 50\n",
        "        elif choice == '2':\n",
        "            return 1, 100\n",
        "        elif choice == '3':\n",
        "            return 1, 500\n",
        "        else:\n",
        "            print(\"Invalid choice, please try again.\")"
      ],
      "metadata": {
        "id": "tzq3Z2GMpEb9"
      },
      "execution_count": null,
      "outputs": []
    },
    {
      "cell_type": "markdown",
      "source": [
        "### Step 7: Putting It All Together\n",
        "\n",
        "Here’s how everything works together:\n"
      ],
      "metadata": {
        "id": "l1EryzzCpMt-"
      }
    },
    {
      "cell_type": "code",
      "source": [
        "def play_game():\n",
        "    print(\"Welcome to the Number Guessing Game!\")\n",
        "\n",
        "    # Choose difficulty level\n",
        "    min_value, max_value = choose_difficulty()\n",
        "\n",
        "    # Generate a random number\n",
        "    target_number = generate_random_number(min_value, max_value)\n",
        "\n",
        "    # Initialize the guess count\n",
        "    guess_count = 0\n",
        "\n",
        "    # Game loop\n",
        "    while True:\n",
        "        guess = get_user_guess(min_value, max_value)\n",
        "        guess_count += 1\n",
        "        if check_guess(guess, target_number):\n",
        "            break\n",
        "\n",
        "    # End of the game\n",
        "    print(f\"You guessed the number in {guess_count} tries!\")"
      ],
      "metadata": {
        "id": "_QtzrCyhpNCM"
      },
      "execution_count": null,
      "outputs": []
    },
    {
      "cell_type": "markdown",
      "source": [
        "### Task:\n",
        "\n",
        "- Create this **Number Guessing Game** in your Jupyter Notebook.\n",
        "- Test it by playing the game.\n",
        "- Add at least **one additional feature** to the game (e.g., tracking the highest score, providing feedback on how close the guess was to the actual number, etc.).\n",
        "\n",
        "This assignment will help reinforce the following topics:\n",
        "- Functions\n",
        "- If-else statements\n",
        "- Loops\n",
        "- Input validation\n",
        "- Variables\n",
        "- Comparison operators\n",
        "\n",
        "---\n"
      ],
      "metadata": {
        "id": "TFuooflBpZfB"
      }
    }
  ]
}